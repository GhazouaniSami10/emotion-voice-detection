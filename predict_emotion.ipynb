{
 "cells": [
  {
   "cell_type": "code",
   "execution_count": 19,
   "metadata": {},
   "outputs": [],
   "source": [
    "import pyaudio\n",
    "import wave\n",
    "import librosa\n",
    "import numpy as np\n",
    "import pandas as pd\n",
    "from sklearn.preprocessing import LabelEncoder\n",
    "from keras import backend as K\n",
    "from keras.models import load_model\n",
    "from keras.optimizers import rmsprop"
   ]
  },
  {
   "cell_type": "code",
   "execution_count": 20,
   "metadata": {},
   "outputs": [
    {
     "name": "stdout",
     "output_type": "stream",
     "text": [
      "\r",
      "1/1 [==============================] - 1s 760ms/step\n"
     ]
    },
    {
     "data": {
      "text/plain": [
       "array(['female_fearful'], dtype=object)"
      ]
     },
     "execution_count": 20,
     "metadata": {},
     "output_type": "execute_result"
    }
   ],
   "source": [
    "X, sample_rate = librosa.load('/home/ghazouani/Bureau/emotion voice/03-01-06-01-01-01-02.wav', res_type='kaiser_fast',duration=3,sr=22050*2,offset=0.5)\n",
    "sample_rate = np.array(sample_rate)\n",
    "model = load_model('/home/ghazouani/Bureau/webapp emotion/saved_models/Emotion_Voice_Detection_Model.h5')\n",
    "opt = rmsprop(lr=0.0001, decay=1e-6)\n",
    "model.compile(loss='categorical_crossentropy', optimizer=opt, metrics=['accuracy'])\n",
    "lb = LabelEncoder()\n",
    "lb.classes_ = np.load('/home/ghazouani/Bureau/webapp emotion/label_classes.npy', allow_pickle=True)\n",
    "features = np.mean(librosa.feature.mfcc(y=X, sr=sample_rate, n_mfcc=13),axis=0)\n",
    "features_df= pd.DataFrame(data=features)\n",
    "features_stacked = features_df.stack().to_frame().T\n",
    "features_expanded= np.expand_dims(features_stacked, axis=2)\n",
    "predictions = model.predict(features_expanded, batch_size=512, verbose=1)\n",
    "predictions_mod = predictions.argmax(axis=1)\n",
    "preds_flat = predictions_mod.astype(int).flatten()\n",
    "predictions_array = (lb.inverse_transform((preds_flat)))\n",
    "predictions_array"
   ]
  },
  {
   "cell_type": "code",
   "execution_count": null,
   "metadata": {},
   "outputs": [],
   "source": []
  },
  {
   "cell_type": "code",
   "execution_count": null,
   "metadata": {},
   "outputs": [],
   "source": []
  }
 ],
 "metadata": {
  "kernelspec": {
   "display_name": "Python 3",
   "language": "python",
   "name": "python3"
  },
  "language_info": {
   "codemirror_mode": {
    "name": "ipython",
    "version": 3
   },
   "file_extension": ".py",
   "mimetype": "text/x-python",
   "name": "python",
   "nbconvert_exporter": "python",
   "pygments_lexer": "ipython3",
   "version": "3.6.9"
  }
 },
 "nbformat": 4,
 "nbformat_minor": 2
}
